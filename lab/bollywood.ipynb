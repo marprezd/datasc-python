{
  "nbformat": 4,
  "nbformat_minor": 0,
  "metadata": {
    "colab": {
      "name": "bollywood.ipynb",
      "provenance": [],
      "mount_file_id": "1-6bEqE5GVre5FUOvJrtIP4ImwOnX7DXH",
      "authorship_tag": "ABX9TyOgxhbzIgWpWN5zaP4312wI",
      "include_colab_link": true
    },
    "kernelspec": {
      "name": "python3",
      "display_name": "Python 3"
    },
    "language_info": {
      "name": "python"
    }
  },
  "cells": [
    {
      "cell_type": "markdown",
      "metadata": {
        "id": "view-in-github",
        "colab_type": "text"
      },
      "source": [
        "<a href=\"https://colab.research.google.com/github/marprezd/datasc-python-lab/blob/main/lab/bollywood.ipynb\" target=\"_parent\"><img src=\"https://colab.research.google.com/assets/colab-badge.svg\" alt=\"Open In Colab\"/></a>"
      ]
    },
    {
      "cell_type": "markdown",
      "metadata": {
        "id": "Uou6YUre_VJk"
      },
      "source": [
        "# Descriptive Analytics in the Bollywood Dataset.\n",
        "The data file `bollywood.csv` contains box office collection and social media promotion information about movies released in 2013−2015 period. \n"
      ]
    },
    {
      "cell_type": "code",
      "metadata": {
        "id": "FDtvlWufCSCE"
      },
      "source": [
        "# Import Pandas and Plotly libraries\n",
        "import pandas as pd\n",
        "import plotly.graph_objects as go "
      ],
      "execution_count": null,
      "outputs": []
    },
    {
      "cell_type": "code",
      "metadata": {
        "colab": {
          "base_uri": "https://localhost:8080/",
          "height": 206
        },
        "id": "99_koQuwJcxL",
        "outputId": "50958702-2851-4c51-f178-7a7a6e494fbf"
      },
      "source": [
        "# We will use the pd.read.csv method to read the bollywood.csv dataset and load it into a DataFrame.\n",
        "df = pd.read_csv('drive/MyDrive/Colab Notebooks/data/bollywood.csv')\n",
        "\n",
        "# Let's see the first few records of the DataFrame\n",
        "df.head(5)"
      ],
      "execution_count": null,
      "outputs": [
        {
          "output_type": "execute_result",
          "data": {
            "text/html": [
              "<div>\n",
              "<style scoped>\n",
              "    .dataframe tbody tr th:only-of-type {\n",
              "        vertical-align: middle;\n",
              "    }\n",
              "\n",
              "    .dataframe tbody tr th {\n",
              "        vertical-align: top;\n",
              "    }\n",
              "\n",
              "    .dataframe thead th {\n",
              "        text-align: right;\n",
              "    }\n",
              "</style>\n",
              "<table border=\"1\" class=\"dataframe\">\n",
              "  <thead>\n",
              "    <tr style=\"text-align: right;\">\n",
              "      <th></th>\n",
              "      <th>SlNo</th>\n",
              "      <th>Release Date</th>\n",
              "      <th>MovieName</th>\n",
              "      <th>ReleaseTime</th>\n",
              "      <th>Genre</th>\n",
              "      <th>Budget</th>\n",
              "      <th>BoxOfficeCollection</th>\n",
              "      <th>YoutubeViews</th>\n",
              "      <th>YoutubeLikes</th>\n",
              "      <th>YoutubeDislikes</th>\n",
              "    </tr>\n",
              "  </thead>\n",
              "  <tbody>\n",
              "    <tr>\n",
              "      <th>0</th>\n",
              "      <td>1</td>\n",
              "      <td>18-Apr-14</td>\n",
              "      <td>2 States</td>\n",
              "      <td>LW</td>\n",
              "      <td>Romance</td>\n",
              "      <td>36</td>\n",
              "      <td>104.00</td>\n",
              "      <td>8576361</td>\n",
              "      <td>26622</td>\n",
              "      <td>2527</td>\n",
              "    </tr>\n",
              "    <tr>\n",
              "      <th>1</th>\n",
              "      <td>2</td>\n",
              "      <td>4-Jan-13</td>\n",
              "      <td>Table No. 21</td>\n",
              "      <td>N</td>\n",
              "      <td>Thriller</td>\n",
              "      <td>10</td>\n",
              "      <td>12.00</td>\n",
              "      <td>1087320</td>\n",
              "      <td>1129</td>\n",
              "      <td>137</td>\n",
              "    </tr>\n",
              "    <tr>\n",
              "      <th>2</th>\n",
              "      <td>3</td>\n",
              "      <td>18-Jul-14</td>\n",
              "      <td>Amit Sahni Ki List</td>\n",
              "      <td>N</td>\n",
              "      <td>Comedy</td>\n",
              "      <td>10</td>\n",
              "      <td>4.00</td>\n",
              "      <td>572336</td>\n",
              "      <td>586</td>\n",
              "      <td>54</td>\n",
              "    </tr>\n",
              "    <tr>\n",
              "      <th>3</th>\n",
              "      <td>4</td>\n",
              "      <td>4-Jan-13</td>\n",
              "      <td>Rajdhani Express</td>\n",
              "      <td>N</td>\n",
              "      <td>Drama</td>\n",
              "      <td>7</td>\n",
              "      <td>0.35</td>\n",
              "      <td>42626</td>\n",
              "      <td>86</td>\n",
              "      <td>19</td>\n",
              "    </tr>\n",
              "    <tr>\n",
              "      <th>4</th>\n",
              "      <td>5</td>\n",
              "      <td>4-Jul-14</td>\n",
              "      <td>Bobby Jasoos</td>\n",
              "      <td>N</td>\n",
              "      <td>Comedy</td>\n",
              "      <td>18</td>\n",
              "      <td>10.80</td>\n",
              "      <td>3113427</td>\n",
              "      <td>4512</td>\n",
              "      <td>1224</td>\n",
              "    </tr>\n",
              "  </tbody>\n",
              "</table>\n",
              "</div>"
            ],
            "text/plain": [
              "   SlNo Release Date  ... YoutubeLikes YoutubeDislikes\n",
              "0     1    18-Apr-14  ...        26622            2527\n",
              "1     2     4-Jan-13  ...         1129             137\n",
              "2     3    18-Jul-14  ...          586              54\n",
              "3     4     4-Jan-13  ...           86              19\n",
              "4     5     4-Jul-14  ...         4512            1224\n",
              "\n",
              "[5 rows x 10 columns]"
            ]
          },
          "metadata": {
            "tags": []
          },
          "execution_count": 2
        }
      ]
    },
    {
      "cell_type": "markdown",
      "metadata": {
        "id": "p48kRJ1vNXNt"
      },
      "source": [
        "## Structure of the Bollywood DataFrame."
      ]
    },
    {
      "cell_type": "markdown",
      "metadata": {
        "id": "GQ8Av4vlyZZx"
      },
      "source": [
        "This DataFrame has got the following columns:\n",
        "\n",
        "- SlNo – Release Date\n",
        "- MovieName – Name of the movie\n",
        "- ReleaseTime – Mentions special time of release. **LW (Long weekend), FS (Festive Season), HS (Holiday Season), N (Normal)**\n",
        "- Genre – Genre of the film such as **Romance, Thriller, Action, Comedy**, etc.\n",
        "- Budget – Movie creation budget\n",
        "- BoxOfficeCollection – Box office collection\n",
        "- YoutubeViews – Number of views of the YouTube trailers\n",
        "- YoutubeLikes – Number of likes of the YouTube trailers\n",
        "- YoutubeDislikes – Number of dislikes of the YouTube trailers\n",
        "\n",
        "We will use the `info()` method to explore the **metadata information** of the dataset."
      ]
    },
    {
      "cell_type": "code",
      "metadata": {
        "colab": {
          "base_uri": "https://localhost:8080/"
        },
        "id": "3kiYgUs3PAGb",
        "outputId": "58f3a681-8a03-460c-f033-f66b3d6e775a"
      },
      "source": [
        "# Print the metadata information of the dataset\n",
        "df.info()"
      ],
      "execution_count": null,
      "outputs": [
        {
          "output_type": "stream",
          "text": [
            "<class 'pandas.core.frame.DataFrame'>\n",
            "RangeIndex: 149 entries, 0 to 148\n",
            "Data columns (total 10 columns):\n",
            " #   Column               Non-Null Count  Dtype  \n",
            "---  ------               --------------  -----  \n",
            " 0   SlNo                 149 non-null    int64  \n",
            " 1   Release Date         149 non-null    object \n",
            " 2   MovieName            149 non-null    object \n",
            " 3   ReleaseTime          149 non-null    object \n",
            " 4   Genre                149 non-null    object \n",
            " 5   Budget               149 non-null    int64  \n",
            " 6   BoxOfficeCollection  149 non-null    float64\n",
            " 7   YoutubeViews         149 non-null    int64  \n",
            " 8   YoutubeLikes         149 non-null    int64  \n",
            " 9   YoutubeDislikes      149 non-null    int64  \n",
            "dtypes: float64(1), int64(5), object(4)\n",
            "memory usage: 11.8+ KB\n"
          ],
          "name": "stdout"
        }
      ]
    },
    {
      "cell_type": "markdown",
      "metadata": {
        "id": "cKWaid-PpeJI"
      },
      "source": [
        "In this dataset there are a total of 149 records in 10 columns, there are no lost values; 1 Column is floating type, 5 columns are integer type and 4 columns are of objects type. The memory consumption of the dataset is 11.8 kb."
      ]
    },
    {
      "cell_type": "markdown",
      "metadata": {
        "id": "8IG_LTcu3HUM"
      },
      "source": [
        "## Let's start with the descriptive analysis."
      ]
    },
    {
      "cell_type": "markdown",
      "metadata": {
        "id": "fMtT1NYN3MCj"
      },
      "source": [
        "### How many movies got released in each genre?\n",
        "\n",
        "Since gender is a column with categorical variables we will use the value_counts() method that allows us to know the number of occurrences of a unique value in each of the columns."
      ]
    },
    {
      "cell_type": "code",
      "metadata": {
        "colab": {
          "base_uri": "https://localhost:8080/"
        },
        "id": "xROsOL9d8vpw",
        "outputId": "df120772-77c5-4208-f9f4-dd60cc24eaab"
      },
      "source": [
        "# Print how many movies got released in each genre\n",
        "df.Genre.value_counts()"
      ],
      "execution_count": null,
      "outputs": [
        {
          "output_type": "execute_result",
          "data": {
            "text/plain": [
              "Comedy       36\n",
              " Drama       35\n",
              "Thriller     26\n",
              "Romance      25\n",
              "Action       21\n",
              "Action        3\n",
              "Thriller      3\n",
              "Name: Genre, dtype: int64"
            ]
          },
          "metadata": {
            "tags": []
          },
          "execution_count": 4
        }
      ]
    },
    {
      "cell_type": "markdown",
      "metadata": {
        "id": "M-y3Zq5TAIfD"
      },
      "source": [
        "As you can see at the output, the Comedy genre has got the largest number of releases followed very closely by the Drama genre. On the other hand, the Action and Thriller genres are those that have got a smaller number of releases."
      ]
    },
    {
      "cell_type": "markdown",
      "metadata": {
        "id": "c4gGdKjVEUY5"
      },
      "source": [
        "### How many movies in each genre has got released in different release times like long weekend, festive season, etc?\n",
        "\n",
        "To find the answer to this question we will use the crosstab() method that allows us to perform a cross-tabulation between the Genre and ReleaseTime columns."
      ]
    },
    {
      "cell_type": "code",
      "metadata": {
        "colab": {
          "base_uri": "https://localhost:8080/",
          "height": 300
        },
        "id": "-WqJ-efuEh46",
        "outputId": "ed3ca80a-b6d9-48a2-ea51-8db4a44d7cfd"
      },
      "source": [
        "# Find how many movies in each genre got released in different release times\n",
        "pd.crosstab(df['Genre'], df['ReleaseTime'])"
      ],
      "execution_count": null,
      "outputs": [
        {
          "output_type": "execute_result",
          "data": {
            "text/html": [
              "<div>\n",
              "<style scoped>\n",
              "    .dataframe tbody tr th:only-of-type {\n",
              "        vertical-align: middle;\n",
              "    }\n",
              "\n",
              "    .dataframe tbody tr th {\n",
              "        vertical-align: top;\n",
              "    }\n",
              "\n",
              "    .dataframe thead th {\n",
              "        text-align: right;\n",
              "    }\n",
              "</style>\n",
              "<table border=\"1\" class=\"dataframe\">\n",
              "  <thead>\n",
              "    <tr style=\"text-align: right;\">\n",
              "      <th>ReleaseTime</th>\n",
              "      <th>FS</th>\n",
              "      <th>HS</th>\n",
              "      <th>LW</th>\n",
              "      <th>N</th>\n",
              "    </tr>\n",
              "    <tr>\n",
              "      <th>Genre</th>\n",
              "      <th></th>\n",
              "      <th></th>\n",
              "      <th></th>\n",
              "      <th></th>\n",
              "    </tr>\n",
              "  </thead>\n",
              "  <tbody>\n",
              "    <tr>\n",
              "      <th>Drama</th>\n",
              "      <td>4</td>\n",
              "      <td>6</td>\n",
              "      <td>1</td>\n",
              "      <td>24</td>\n",
              "    </tr>\n",
              "    <tr>\n",
              "      <th>Action</th>\n",
              "      <td>3</td>\n",
              "      <td>3</td>\n",
              "      <td>3</td>\n",
              "      <td>12</td>\n",
              "    </tr>\n",
              "    <tr>\n",
              "      <th>Action</th>\n",
              "      <td>0</td>\n",
              "      <td>0</td>\n",
              "      <td>0</td>\n",
              "      <td>3</td>\n",
              "    </tr>\n",
              "    <tr>\n",
              "      <th>Comedy</th>\n",
              "      <td>3</td>\n",
              "      <td>5</td>\n",
              "      <td>5</td>\n",
              "      <td>23</td>\n",
              "    </tr>\n",
              "    <tr>\n",
              "      <th>Romance</th>\n",
              "      <td>3</td>\n",
              "      <td>3</td>\n",
              "      <td>4</td>\n",
              "      <td>15</td>\n",
              "    </tr>\n",
              "    <tr>\n",
              "      <th>Thriller</th>\n",
              "      <td>4</td>\n",
              "      <td>1</td>\n",
              "      <td>1</td>\n",
              "      <td>20</td>\n",
              "    </tr>\n",
              "    <tr>\n",
              "      <th>Thriller</th>\n",
              "      <td>0</td>\n",
              "      <td>0</td>\n",
              "      <td>1</td>\n",
              "      <td>2</td>\n",
              "    </tr>\n",
              "  </tbody>\n",
              "</table>\n",
              "</div>"
            ],
            "text/plain": [
              "ReleaseTime  FS  HS  LW   N\n",
              "Genre                      \n",
              " Drama        4   6   1  24\n",
              "Action        3   3   3  12\n",
              "Action        0   0   0   3\n",
              "Comedy        3   5   5  23\n",
              "Romance       3   3   4  15\n",
              "Thriller      4   1   1  20\n",
              "Thriller      0   0   1   2"
            ]
          },
          "metadata": {
            "tags": []
          },
          "execution_count": 5
        }
      ]
    },
    {
      "cell_type": "markdown",
      "metadata": {
        "id": "rHzpr8UeatCG"
      },
      "source": [
        "As shown in the output, most of the genres throw their movies in the **normal season (N)**. The **Drama** genre is the one that has got the most releases in **Holiday Season (HS)** and **normal season (N)**."
      ]
    }
  ]
}